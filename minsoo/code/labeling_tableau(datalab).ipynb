{
 "cells": [
  {
   "cell_type": "code",
   "execution_count": 2,
   "metadata": {},
   "outputs": [],
   "source": [
    "import numpy as np\n",
    "import pandas as pd"
   ]
  },
  {
   "cell_type": "markdown",
   "metadata": {},
   "source": [
    "# 현재 인력 현황"
   ]
  },
  {
   "cell_type": "markdown",
   "metadata": {},
   "source": [
    "### 업종 중분류 및 소분류 컬럼명 수정"
   ]
  },
  {
   "cell_type": "code",
   "execution_count": 4,
   "metadata": {},
   "outputs": [],
   "source": [
    "xlsx = pd.read_csv('../data/datalab_search_volumn(ver2.0).csv')\n",
    "\n",
    "xlsx.rename(columns={\n",
    "                xlsx.columns[0] : \"연도\"}, inplace=True)"
   ]
  },
  {
   "cell_type": "code",
   "execution_count": 5,
   "metadata": {},
   "outputs": [
    {
     "data": {
      "text/html": [
       "<div>\n",
       "<style scoped>\n",
       "    .dataframe tbody tr th:only-of-type {\n",
       "        vertical-align: middle;\n",
       "    }\n",
       "\n",
       "    .dataframe tbody tr th {\n",
       "        vertical-align: top;\n",
       "    }\n",
       "\n",
       "    .dataframe thead th {\n",
       "        text-align: right;\n",
       "    }\n",
       "</style>\n",
       "<table border=\"1\" class=\"dataframe\">\n",
       "  <thead>\n",
       "    <tr style=\"text-align: right;\">\n",
       "      <th></th>\n",
       "      <th>연도</th>\n",
       "      <th>데이터개발자</th>\n",
       "      <th>데이터과학자</th>\n",
       "      <th>데이터기획자</th>\n",
       "      <th>데이터분석가</th>\n",
       "      <th>데이터아키텍트</th>\n",
       "      <th>데이터엔지니어</th>\n",
       "      <th>데이터컨설턴트</th>\n",
       "      <th>데이터베이스관리자</th>\n",
       "    </tr>\n",
       "  </thead>\n",
       "  <tbody>\n",
       "    <tr>\n",
       "      <th>0</th>\n",
       "      <td>2018</td>\n",
       "      <td>0.03</td>\n",
       "      <td>43.33</td>\n",
       "      <td>0.03</td>\n",
       "      <td>23.68</td>\n",
       "      <td>0.02</td>\n",
       "      <td>2.60</td>\n",
       "      <td>0.05</td>\n",
       "      <td>31.66</td>\n",
       "    </tr>\n",
       "    <tr>\n",
       "      <th>1</th>\n",
       "      <td>2019</td>\n",
       "      <td>0.10</td>\n",
       "      <td>51.01</td>\n",
       "      <td>0.01</td>\n",
       "      <td>23.94</td>\n",
       "      <td>0.02</td>\n",
       "      <td>7.77</td>\n",
       "      <td>0.00</td>\n",
       "      <td>23.36</td>\n",
       "    </tr>\n",
       "    <tr>\n",
       "      <th>2</th>\n",
       "      <td>2020</td>\n",
       "      <td>0.49</td>\n",
       "      <td>50.49</td>\n",
       "      <td>0.05</td>\n",
       "      <td>43.31</td>\n",
       "      <td>0.16</td>\n",
       "      <td>20.35</td>\n",
       "      <td>0.00</td>\n",
       "      <td>19.12</td>\n",
       "    </tr>\n",
       "    <tr>\n",
       "      <th>3</th>\n",
       "      <td>2021</td>\n",
       "      <td>0.63</td>\n",
       "      <td>49.87</td>\n",
       "      <td>0.04</td>\n",
       "      <td>47.13</td>\n",
       "      <td>0.27</td>\n",
       "      <td>36.01</td>\n",
       "      <td>0.05</td>\n",
       "      <td>11.04</td>\n",
       "    </tr>\n",
       "  </tbody>\n",
       "</table>\n",
       "</div>"
      ],
      "text/plain": [
       "     연도  데이터개발자  데이터과학자  데이터기획자  데이터분석가  데이터아키텍트  데이터엔지니어  데이터컨설턴트  데이터베이스관리자\n",
       "0  2018    0.03   43.33    0.03   23.68     0.02     2.60     0.05      31.66\n",
       "1  2019    0.10   51.01    0.01   23.94     0.02     7.77     0.00      23.36\n",
       "2  2020    0.49   50.49    0.05   43.31     0.16    20.35     0.00      19.12\n",
       "3  2021    0.63   49.87    0.04   47.13     0.27    36.01     0.05      11.04"
      ]
     },
     "execution_count": 5,
     "metadata": {},
     "output_type": "execute_result"
    }
   ],
   "source": [
    "xlsx"
   ]
  }
 ],
 "metadata": {
  "kernelspec": {
   "display_name": "Python 3",
   "language": "python",
   "name": "python3"
  },
  "language_info": {
   "codemirror_mode": {
    "name": "ipython",
    "version": 3
   },
   "file_extension": ".py",
   "mimetype": "text/x-python",
   "name": "python",
   "nbconvert_exporter": "python",
   "pygments_lexer": "ipython3",
   "version": "3.9.6"
  }
 },
 "nbformat": 4,
 "nbformat_minor": 2
}
