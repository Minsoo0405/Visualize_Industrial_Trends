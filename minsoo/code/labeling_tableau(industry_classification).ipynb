{
 "cells": [
  {
   "cell_type": "code",
   "execution_count": 10,
   "metadata": {},
   "outputs": [],
   "source": [
    "import numpy as np\n",
    "import pandas as pd"
   ]
  },
  {
   "cell_type": "markdown",
   "metadata": {},
   "source": [
    "### 업종 중분류 및 소분류 컬럼명 수정"
   ]
  },
  {
   "cell_type": "code",
   "execution_count": 11,
   "metadata": {},
   "outputs": [],
   "source": [
    "xlsx = pd.read_excel('../data/data_ids_companycounts.xlsx')\n",
    "\n",
    "xlsx.rename(columns={\n",
    "                xlsx.columns[0] : \"업종 중분류\",\n",
    "                xlsx.columns[1] : \"업종 소분류\"}, inplace=True)"
   ]
  },
  {
   "cell_type": "code",
   "execution_count": 12,
   "metadata": {},
   "outputs": [
    {
     "data": {
      "text/html": [
       "<div>\n",
       "<style scoped>\n",
       "    .dataframe tbody tr th:only-of-type {\n",
       "        vertical-align: middle;\n",
       "    }\n",
       "\n",
       "    .dataframe tbody tr th {\n",
       "        vertical-align: top;\n",
       "    }\n",
       "\n",
       "    .dataframe thead th {\n",
       "        text-align: right;\n",
       "    }\n",
       "</style>\n",
       "<table border=\"1\" class=\"dataframe\">\n",
       "  <thead>\n",
       "    <tr style=\"text-align: right;\">\n",
       "      <th></th>\n",
       "      <th>업종 중분류</th>\n",
       "      <th>업종 소분류</th>\n",
       "      <th>2016년</th>\n",
       "      <th>2017년</th>\n",
       "      <th>2018년</th>\n",
       "      <th>2019년</th>\n",
       "      <th>2020년</th>\n",
       "      <th>2021년</th>\n",
       "    </tr>\n",
       "  </thead>\n",
       "  <tbody>\n",
       "    <tr>\n",
       "      <th>0</th>\n",
       "      <td>데이터 처리 및 관리 솔루션 개발·공급업</td>\n",
       "      <td>데이터 수집·연계 솔루션 개발·공급업</td>\n",
       "      <td>399</td>\n",
       "      <td>341</td>\n",
       "      <td>445</td>\n",
       "      <td>504</td>\n",
       "      <td>518</td>\n",
       "      <td>551</td>\n",
       "    </tr>\n",
       "    <tr>\n",
       "      <th>1</th>\n",
       "      <td>데이터 처리 및 관리 솔루션 개발·공급업</td>\n",
       "      <td>데이터베이스 관리 시스템 솔루션 개발·공급업</td>\n",
       "      <td>155</td>\n",
       "      <td>135</td>\n",
       "      <td>119</td>\n",
       "      <td>146</td>\n",
       "      <td>149</td>\n",
       "      <td>186</td>\n",
       "    </tr>\n",
       "    <tr>\n",
       "      <th>2</th>\n",
       "      <td>데이터 처리 및 관리 솔루션 개발·공급업</td>\n",
       "      <td>데이터 분석 솔루션 개발·공급업</td>\n",
       "      <td>203</td>\n",
       "      <td>183</td>\n",
       "      <td>239</td>\n",
       "      <td>322</td>\n",
       "      <td>365</td>\n",
       "      <td>446</td>\n",
       "    </tr>\n",
       "    <tr>\n",
       "      <th>3</th>\n",
       "      <td>데이터 처리 및 관리 솔루션 개발·공급업</td>\n",
       "      <td>데이터 관리 솔루션 개발·공급업</td>\n",
       "      <td>879</td>\n",
       "      <td>854</td>\n",
       "      <td>1099</td>\n",
       "      <td>1059</td>\n",
       "      <td>1062</td>\n",
       "      <td>1105</td>\n",
       "    </tr>\n",
       "    <tr>\n",
       "      <th>4</th>\n",
       "      <td>데이터 처리 및 관리 솔루션 개발·공급업</td>\n",
       "      <td>데이터 보안 솔루션 개발·공급업</td>\n",
       "      <td>879</td>\n",
       "      <td>854</td>\n",
       "      <td>150</td>\n",
       "      <td>199</td>\n",
       "      <td>235</td>\n",
       "      <td>302</td>\n",
       "    </tr>\n",
       "    <tr>\n",
       "      <th>5</th>\n",
       "      <td>데이터 처리 및 관리 솔루션 개발·공급업</td>\n",
       "      <td>빅데이터 통합 플랫폼 솔루션 개발·공급업</td>\n",
       "      <td>65</td>\n",
       "      <td>95</td>\n",
       "      <td>78</td>\n",
       "      <td>126</td>\n",
       "      <td>158</td>\n",
       "      <td>206</td>\n",
       "    </tr>\n",
       "    <tr>\n",
       "      <th>6</th>\n",
       "      <td>데이터 구축 및 컨설팅 서비스업</td>\n",
       "      <td>데이터 구축/가공 서비스업</td>\n",
       "      <td>1870</td>\n",
       "      <td>1594</td>\n",
       "      <td>2252</td>\n",
       "      <td>2140</td>\n",
       "      <td>2158</td>\n",
       "      <td>2229</td>\n",
       "    </tr>\n",
       "    <tr>\n",
       "      <th>7</th>\n",
       "      <td>데이터 구축 및 컨설팅 서비스업</td>\n",
       "      <td>데이터 관련 컨설팅 서비스업</td>\n",
       "      <td>811</td>\n",
       "      <td>1004</td>\n",
       "      <td>419</td>\n",
       "      <td>534</td>\n",
       "      <td>593</td>\n",
       "      <td>729</td>\n",
       "    </tr>\n",
       "    <tr>\n",
       "      <th>8</th>\n",
       "      <td>데이터 판매 및 제공 서비스업</td>\n",
       "      <td>데이터 판매/중개 서비스업</td>\n",
       "      <td>2041</td>\n",
       "      <td>310</td>\n",
       "      <td>287</td>\n",
       "      <td>367</td>\n",
       "      <td>494</td>\n",
       "      <td>567</td>\n",
       "    </tr>\n",
       "    <tr>\n",
       "      <th>9</th>\n",
       "      <td>데이터 판매 및 제공 서비스업</td>\n",
       "      <td>정보제공 서비스업</td>\n",
       "      <td>303</td>\n",
       "      <td>2617</td>\n",
       "      <td>2065</td>\n",
       "      <td>2222</td>\n",
       "      <td>2282</td>\n",
       "      <td>2419</td>\n",
       "    </tr>\n",
       "  </tbody>\n",
       "</table>\n",
       "</div>"
      ],
      "text/plain": [
       "                   업종 중분류                    업종 소분류  2016년  2017년  2018년  \\\n",
       "0  데이터 처리 및 관리 솔루션 개발·공급업      데이터 수집·연계 솔루션 개발·공급업    399    341    445   \n",
       "1  데이터 처리 및 관리 솔루션 개발·공급업  데이터베이스 관리 시스템 솔루션 개발·공급업    155    135    119   \n",
       "2  데이터 처리 및 관리 솔루션 개발·공급업         데이터 분석 솔루션 개발·공급업    203    183    239   \n",
       "3  데이터 처리 및 관리 솔루션 개발·공급업         데이터 관리 솔루션 개발·공급업    879    854   1099   \n",
       "4  데이터 처리 및 관리 솔루션 개발·공급업         데이터 보안 솔루션 개발·공급업    879    854    150   \n",
       "5  데이터 처리 및 관리 솔루션 개발·공급업    빅데이터 통합 플랫폼 솔루션 개발·공급업     65     95     78   \n",
       "6       데이터 구축 및 컨설팅 서비스업            데이터 구축/가공 서비스업   1870   1594   2252   \n",
       "7       데이터 구축 및 컨설팅 서비스업           데이터 관련 컨설팅 서비스업    811   1004    419   \n",
       "8        데이터 판매 및 제공 서비스업            데이터 판매/중개 서비스업   2041    310    287   \n",
       "9        데이터 판매 및 제공 서비스업                 정보제공 서비스업    303   2617   2065   \n",
       "\n",
       "   2019년  2020년  2021년  \n",
       "0    504    518    551  \n",
       "1    146    149    186  \n",
       "2    322    365    446  \n",
       "3   1059   1062   1105  \n",
       "4    199    235    302  \n",
       "5    126    158    206  \n",
       "6   2140   2158   2229  \n",
       "7    534    593    729  \n",
       "8    367    494    567  \n",
       "9   2222   2282   2419  "
      ]
     },
     "execution_count": 12,
     "metadata": {},
     "output_type": "execute_result"
    }
   ],
   "source": [
    "xlsx"
   ]
  },
  {
   "cell_type": "markdown",
   "metadata": {},
   "source": [
    "### 연도별로 데이터프레임으로 쪼개기"
   ]
  },
  {
   "cell_type": "code",
   "execution_count": 13,
   "metadata": {},
   "outputs": [],
   "source": [
    "xlsx_2016 = xlsx[['업종 중분류', '업종 소분류', '2016년']]\n",
    "xlsx_2017 = xlsx[['업종 중분류', '업종 소분류', '2017년']]\n",
    "xlsx_2018 = xlsx[['업종 중분류', '업종 소분류', '2018년']]\n",
    "xlsx_2019 = xlsx[['업종 중분류', '업종 소분류', '2019년']]\n",
    "xlsx_2020 = xlsx[['업종 중분류', '업종 소분류', '2020년']]\n",
    "xlsx_2021 = xlsx[['업종 중분류', '업종 소분류', '2021년']]"
   ]
  },
  {
   "cell_type": "markdown",
   "metadata": {},
   "source": [
    "### 이전 컬럼(연도)를 영위 기업수로 바꾸기"
   ]
  },
  {
   "cell_type": "code",
   "execution_count": 15,
   "metadata": {},
   "outputs": [],
   "source": [
    "xlsx_2016.columns = ['업종 중분류', '업종 소분류', '기업 영위수']\n",
    "xlsx_2017.columns = ['업종 중분류', '업종 소분류', '기업 영위수']\n",
    "xlsx_2018.columns = ['업종 중분류', '업종 소분류', '기업 영위수']\n",
    "xlsx_2019.columns = ['업종 중분류', '업종 소분류', '기업 영위수']\n",
    "xlsx_2020.columns = ['업종 중분류', '업종 소분류', '기업 영위수']\n",
    "xlsx_2021.columns = ['업종 중분류', '업종 소분류', '기업 영위수']"
   ]
  },
  {
   "cell_type": "markdown",
   "metadata": {},
   "source": [
    "### 하나의 데이터프레임으로 다시 합치기"
   ]
  },
  {
   "cell_type": "code",
   "execution_count": 16,
   "metadata": {},
   "outputs": [],
   "source": [
    "new_xlsx = pd.concat([xlsx_2016, xlsx_2017, xlsx_2018, xlsx_2019, xlsx_2020, xlsx_2021], axis=0)"
   ]
  },
  {
   "cell_type": "code",
   "execution_count": 33,
   "metadata": {},
   "outputs": [
    {
     "name": "stderr",
     "output_type": "stream",
     "text": [
      "/var/folders/cy/sw8s66dd02l8b9dj7pqk2ljm0000gn/T/ipykernel_30944/4137071420.py:3: SettingWithCopyWarning: \n",
      "A value is trying to be set on a copy of a slice from a DataFrame\n",
      "\n",
      "See the caveats in the documentation: https://pandas.pydata.org/pandas-docs/stable/user_guide/indexing.html#returning-a-view-versus-a-copy\n",
      "  new_xlsx['연도'][0:10] = 2016\n",
      "/var/folders/cy/sw8s66dd02l8b9dj7pqk2ljm0000gn/T/ipykernel_30944/4137071420.py:4: SettingWithCopyWarning: \n",
      "A value is trying to be set on a copy of a slice from a DataFrame\n",
      "\n",
      "See the caveats in the documentation: https://pandas.pydata.org/pandas-docs/stable/user_guide/indexing.html#returning-a-view-versus-a-copy\n",
      "  new_xlsx['연도'][10:20] = 2017\n",
      "/var/folders/cy/sw8s66dd02l8b9dj7pqk2ljm0000gn/T/ipykernel_30944/4137071420.py:5: SettingWithCopyWarning: \n",
      "A value is trying to be set on a copy of a slice from a DataFrame\n",
      "\n",
      "See the caveats in the documentation: https://pandas.pydata.org/pandas-docs/stable/user_guide/indexing.html#returning-a-view-versus-a-copy\n",
      "  new_xlsx['연도'][20:30] = 2018\n",
      "/var/folders/cy/sw8s66dd02l8b9dj7pqk2ljm0000gn/T/ipykernel_30944/4137071420.py:6: SettingWithCopyWarning: \n",
      "A value is trying to be set on a copy of a slice from a DataFrame\n",
      "\n",
      "See the caveats in the documentation: https://pandas.pydata.org/pandas-docs/stable/user_guide/indexing.html#returning-a-view-versus-a-copy\n",
      "  new_xlsx['연도'][30:40] = 2019\n",
      "/var/folders/cy/sw8s66dd02l8b9dj7pqk2ljm0000gn/T/ipykernel_30944/4137071420.py:7: SettingWithCopyWarning: \n",
      "A value is trying to be set on a copy of a slice from a DataFrame\n",
      "\n",
      "See the caveats in the documentation: https://pandas.pydata.org/pandas-docs/stable/user_guide/indexing.html#returning-a-view-versus-a-copy\n",
      "  new_xlsx['연도'][40:50] = 2020\n",
      "/var/folders/cy/sw8s66dd02l8b9dj7pqk2ljm0000gn/T/ipykernel_30944/4137071420.py:8: SettingWithCopyWarning: \n",
      "A value is trying to be set on a copy of a slice from a DataFrame\n",
      "\n",
      "See the caveats in the documentation: https://pandas.pydata.org/pandas-docs/stable/user_guide/indexing.html#returning-a-view-versus-a-copy\n",
      "  new_xlsx['연도'][50:60] = 2021\n"
     ]
    }
   ],
   "source": [
    "new_xlsx['연도'] = 0\n",
    "\n",
    "new_xlsx['연도'][0:10] = 2016\n",
    "new_xlsx['연도'][10:20] = 2017\n",
    "new_xlsx['연도'][20:30] = 2018\n",
    "new_xlsx['연도'][30:40] = 2019\n",
    "new_xlsx['연도'][40:50] = 2020\n",
    "new_xlsx['연도'][50:60] = 2021"
   ]
  },
  {
   "cell_type": "code",
   "execution_count": 36,
   "metadata": {},
   "outputs": [],
   "source": [
    "new_xlsx.to_excel('../data/tableau(industry_classification).xlsx', index=False)"
   ]
  },
  {
   "cell_type": "code",
   "execution_count": 40,
   "metadata": {},
   "outputs": [
    {
     "data": {
      "text/plain": [
       "12243"
      ]
     },
     "execution_count": 40,
     "metadata": {},
     "output_type": "execute_result"
    }
   ],
   "source": [
    "new_xlsx[new_xlsx['업종 소분류'] == '데이터 구축/가공 서비스업']['기업 영위수'].sum()"
   ]
  }
 ],
 "metadata": {
  "kernelspec": {
   "display_name": "Python 3",
   "language": "python",
   "name": "python3"
  },
  "language_info": {
   "codemirror_mode": {
    "name": "ipython",
    "version": 3
   },
   "file_extension": ".py",
   "mimetype": "text/x-python",
   "name": "python",
   "nbconvert_exporter": "python",
   "pygments_lexer": "ipython3",
   "version": "3.9.6"
  }
 },
 "nbformat": 4,
 "nbformat_minor": 2
}
