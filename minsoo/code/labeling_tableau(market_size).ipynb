{
 "cells": [
  {
   "cell_type": "code",
   "execution_count": 1,
   "metadata": {},
   "outputs": [],
   "source": [
    "import numpy as np\n",
    "import pandas as pd"
   ]
  },
  {
   "cell_type": "markdown",
   "metadata": {},
   "source": [
    "### 업종 중분류 및 소분류 컬럼명 수정"
   ]
  },
  {
   "cell_type": "code",
   "execution_count": 8,
   "metadata": {},
   "outputs": [],
   "source": [
    "xlsx = pd.read_excel('../data/data_ids_sales.xlsx')\n",
    "\n",
    "xlsx.rename(columns={\n",
    "                xlsx.columns[0] : \"업종 중분류\",\n",
    "                xlsx.columns[1] : \"업종 소분류\"}, inplace=True)"
   ]
  },
  {
   "cell_type": "code",
   "execution_count": 9,
   "metadata": {},
   "outputs": [
    {
     "data": {
      "text/html": [
       "<div>\n",
       "<style scoped>\n",
       "    .dataframe tbody tr th:only-of-type {\n",
       "        vertical-align: middle;\n",
       "    }\n",
       "\n",
       "    .dataframe tbody tr th {\n",
       "        vertical-align: top;\n",
       "    }\n",
       "\n",
       "    .dataframe thead th {\n",
       "        text-align: right;\n",
       "    }\n",
       "</style>\n",
       "<table border=\"1\" class=\"dataframe\">\n",
       "  <thead>\n",
       "    <tr style=\"text-align: right;\">\n",
       "      <th></th>\n",
       "      <th>업종 중분류</th>\n",
       "      <th>업종 소분류</th>\n",
       "      <th>2016년</th>\n",
       "      <th>2017년</th>\n",
       "      <th>2018년</th>\n",
       "      <th>2019년</th>\n",
       "      <th>2020년</th>\n",
       "      <th>2021년 (E)</th>\n",
       "    </tr>\n",
       "  </thead>\n",
       "  <tbody>\n",
       "    <tr>\n",
       "      <th>0</th>\n",
       "      <td>데이터 처리 및 관리 솔루션 개발·공급업</td>\n",
       "      <td>데이터 수집·연계 솔루션 개발·공급업</td>\n",
       "      <td>1345</td>\n",
       "      <td>1393</td>\n",
       "      <td>1621.772014</td>\n",
       "      <td>1871.235803</td>\n",
       "      <td>2122</td>\n",
       "      <td>2787</td>\n",
       "    </tr>\n",
       "    <tr>\n",
       "      <th>1</th>\n",
       "      <td>데이터 처리 및 관리 솔루션 개발·공급업</td>\n",
       "      <td>데이터베이스 관리 시스템 솔루션 개발·공급업</td>\n",
       "      <td>6148</td>\n",
       "      <td>6121</td>\n",
       "      <td>6775.481280</td>\n",
       "      <td>7509.620281</td>\n",
       "      <td>8979</td>\n",
       "      <td>11062</td>\n",
       "    </tr>\n",
       "    <tr>\n",
       "      <th>2</th>\n",
       "      <td>데이터 처리 및 관리 솔루션 개발·공급업</td>\n",
       "      <td>데이터 분석 솔루션 개발·공급업</td>\n",
       "      <td>1249</td>\n",
       "      <td>1325</td>\n",
       "      <td>1781.516155</td>\n",
       "      <td>2014.369121</td>\n",
       "      <td>2586</td>\n",
       "      <td>2951</td>\n",
       "    </tr>\n",
       "    <tr>\n",
       "      <th>3</th>\n",
       "      <td>데이터 처리 및 관리 솔루션 개발·공급업</td>\n",
       "      <td>데이터 관리 솔루션 개발·공급업</td>\n",
       "      <td>5367</td>\n",
       "      <td>4628</td>\n",
       "      <td>4971.604003</td>\n",
       "      <td>5203.494864</td>\n",
       "      <td>6022</td>\n",
       "      <td>7151</td>\n",
       "    </tr>\n",
       "    <tr>\n",
       "      <th>4</th>\n",
       "      <td>데이터 처리 및 관리 솔루션 개발·공급업</td>\n",
       "      <td>데이터 보안 솔루션 개발·공급업</td>\n",
       "      <td>5367</td>\n",
       "      <td>1213</td>\n",
       "      <td>1516.904050</td>\n",
       "      <td>1975.393368</td>\n",
       "      <td>2558</td>\n",
       "      <td>3146</td>\n",
       "    </tr>\n",
       "    <tr>\n",
       "      <th>5</th>\n",
       "      <td>데이터 처리 및 관리 솔루션 개발·공급업</td>\n",
       "      <td>빅데이터 통합 플랫폼 솔루션 개발·공급업</td>\n",
       "      <td>1611</td>\n",
       "      <td>1776</td>\n",
       "      <td>1949.404500</td>\n",
       "      <td>2231.278359</td>\n",
       "      <td>2866</td>\n",
       "      <td>3468</td>\n",
       "    </tr>\n",
       "    <tr>\n",
       "      <th>6</th>\n",
       "      <td>데이터 구축 및 컨설팅 서비스업</td>\n",
       "      <td>데이터 구축/가공 서비스업</td>\n",
       "      <td>54571</td>\n",
       "      <td>57207</td>\n",
       "      <td>58993.113875</td>\n",
       "      <td>62222.502732</td>\n",
       "      <td>72805</td>\n",
       "      <td>81188</td>\n",
       "    </tr>\n",
       "    <tr>\n",
       "      <th>7</th>\n",
       "      <td>데이터 구축 및 컨설팅 서비스업</td>\n",
       "      <td>데이터 관련 컨설팅 서비스업</td>\n",
       "      <td>1279</td>\n",
       "      <td>1687</td>\n",
       "      <td>2296.717025</td>\n",
       "      <td>3189.179358</td>\n",
       "      <td>4194</td>\n",
       "      <td>5147</td>\n",
       "    </tr>\n",
       "    <tr>\n",
       "      <th>8</th>\n",
       "      <td>데이터 판매 및 제공 서비스업</td>\n",
       "      <td>데이터 판매/중개 서비스업</td>\n",
       "      <td>6123</td>\n",
       "      <td>6608</td>\n",
       "      <td>8198.186753</td>\n",
       "      <td>11331.937956</td>\n",
       "      <td>16054</td>\n",
       "      <td>20781</td>\n",
       "    </tr>\n",
       "    <tr>\n",
       "      <th>9</th>\n",
       "      <td>데이터 판매 및 제공 서비스업</td>\n",
       "      <td>정보제공 서비스업</td>\n",
       "      <td>59854</td>\n",
       "      <td>61570</td>\n",
       "      <td>67579.799051</td>\n",
       "      <td>71032.535398</td>\n",
       "      <td>81838</td>\n",
       "      <td>93289</td>\n",
       "    </tr>\n",
       "  </tbody>\n",
       "</table>\n",
       "</div>"
      ],
      "text/plain": [
       "                   업종 중분류                    업종 소분류  2016년  2017년  \\\n",
       "0  데이터 처리 및 관리 솔루션 개발·공급업      데이터 수집·연계 솔루션 개발·공급업   1345   1393   \n",
       "1  데이터 처리 및 관리 솔루션 개발·공급업  데이터베이스 관리 시스템 솔루션 개발·공급업   6148   6121   \n",
       "2  데이터 처리 및 관리 솔루션 개발·공급업         데이터 분석 솔루션 개발·공급업   1249   1325   \n",
       "3  데이터 처리 및 관리 솔루션 개발·공급업         데이터 관리 솔루션 개발·공급업   5367   4628   \n",
       "4  데이터 처리 및 관리 솔루션 개발·공급업         데이터 보안 솔루션 개발·공급업   5367   1213   \n",
       "5  데이터 처리 및 관리 솔루션 개발·공급업    빅데이터 통합 플랫폼 솔루션 개발·공급업   1611   1776   \n",
       "6       데이터 구축 및 컨설팅 서비스업            데이터 구축/가공 서비스업  54571  57207   \n",
       "7       데이터 구축 및 컨설팅 서비스업           데이터 관련 컨설팅 서비스업   1279   1687   \n",
       "8        데이터 판매 및 제공 서비스업            데이터 판매/중개 서비스업   6123   6608   \n",
       "9        데이터 판매 및 제공 서비스업                 정보제공 서비스업  59854  61570   \n",
       "\n",
       "          2018년         2019년  2020년  2021년 (E)  \n",
       "0   1621.772014   1871.235803   2122       2787  \n",
       "1   6775.481280   7509.620281   8979      11062  \n",
       "2   1781.516155   2014.369121   2586       2951  \n",
       "3   4971.604003   5203.494864   6022       7151  \n",
       "4   1516.904050   1975.393368   2558       3146  \n",
       "5   1949.404500   2231.278359   2866       3468  \n",
       "6  58993.113875  62222.502732  72805      81188  \n",
       "7   2296.717025   3189.179358   4194       5147  \n",
       "8   8198.186753  11331.937956  16054      20781  \n",
       "9  67579.799051  71032.535398  81838      93289  "
      ]
     },
     "execution_count": 9,
     "metadata": {},
     "output_type": "execute_result"
    }
   ],
   "source": [
    "xlsx"
   ]
  },
  {
   "cell_type": "markdown",
   "metadata": {},
   "source": [
    "### 연도별로 데이터프레임으로 쪼개기"
   ]
  },
  {
   "cell_type": "code",
   "execution_count": 14,
   "metadata": {},
   "outputs": [],
   "source": [
    "xlsx_2016 = xlsx[['업종 중분류', '업종 소분류', '2016년']]\n",
    "xlsx_2017 = xlsx[['업종 중분류', '업종 소분류', '2017년']]\n",
    "xlsx_2018 = xlsx[['업종 중분류', '업종 소분류', '2018년']]\n",
    "xlsx_2019 = xlsx[['업종 중분류', '업종 소분류', '2019년']]\n",
    "xlsx_2020 = xlsx[['업종 중분류', '업종 소분류', '2020년']]\n",
    "xlsx_2021 = xlsx[['업종 중분류', '업종 소분류', '2021년 (E)']]"
   ]
  },
  {
   "cell_type": "markdown",
   "metadata": {},
   "source": [
    "### 이전 컬럼(연도)를 시장 규모(매출:억원)로 바꾸기"
   ]
  },
  {
   "cell_type": "code",
   "execution_count": 15,
   "metadata": {},
   "outputs": [],
   "source": [
    "xlsx_2016.columns = ['업종 중분류', '업종 소분류', '시장규모(매출:억원)']\n",
    "xlsx_2017.columns = ['업종 중분류', '업종 소분류', '시장규모(매출:억원)']\n",
    "xlsx_2018.columns = ['업종 중분류', '업종 소분류', '시장규모(매출:억원)']\n",
    "xlsx_2019.columns = ['업종 중분류', '업종 소분류', '시장규모(매출:억원)']\n",
    "xlsx_2020.columns = ['업종 중분류', '업종 소분류', '시장규모(매출:억원)']\n",
    "xlsx_2021.columns = ['업종 중분류', '업종 소분류', '시장규모(매출:억원)']"
   ]
  },
  {
   "cell_type": "markdown",
   "metadata": {},
   "source": [
    "### 하나의 데이터프레임으로 다시 합치기"
   ]
  },
  {
   "cell_type": "code",
   "execution_count": 16,
   "metadata": {},
   "outputs": [],
   "source": [
    "new_xlsx = pd.concat([xlsx_2016, xlsx_2017, xlsx_2018, xlsx_2019, xlsx_2020, xlsx_2021], axis=0)"
   ]
  },
  {
   "cell_type": "code",
   "execution_count": 17,
   "metadata": {},
   "outputs": [
    {
     "name": "stderr",
     "output_type": "stream",
     "text": [
      "/var/folders/cy/sw8s66dd02l8b9dj7pqk2ljm0000gn/T/ipykernel_37804/4137071420.py:3: SettingWithCopyWarning: \n",
      "A value is trying to be set on a copy of a slice from a DataFrame\n",
      "\n",
      "See the caveats in the documentation: https://pandas.pydata.org/pandas-docs/stable/user_guide/indexing.html#returning-a-view-versus-a-copy\n",
      "  new_xlsx['연도'][0:10] = 2016\n",
      "/var/folders/cy/sw8s66dd02l8b9dj7pqk2ljm0000gn/T/ipykernel_37804/4137071420.py:4: SettingWithCopyWarning: \n",
      "A value is trying to be set on a copy of a slice from a DataFrame\n",
      "\n",
      "See the caveats in the documentation: https://pandas.pydata.org/pandas-docs/stable/user_guide/indexing.html#returning-a-view-versus-a-copy\n",
      "  new_xlsx['연도'][10:20] = 2017\n",
      "/var/folders/cy/sw8s66dd02l8b9dj7pqk2ljm0000gn/T/ipykernel_37804/4137071420.py:5: SettingWithCopyWarning: \n",
      "A value is trying to be set on a copy of a slice from a DataFrame\n",
      "\n",
      "See the caveats in the documentation: https://pandas.pydata.org/pandas-docs/stable/user_guide/indexing.html#returning-a-view-versus-a-copy\n",
      "  new_xlsx['연도'][20:30] = 2018\n",
      "/var/folders/cy/sw8s66dd02l8b9dj7pqk2ljm0000gn/T/ipykernel_37804/4137071420.py:6: SettingWithCopyWarning: \n",
      "A value is trying to be set on a copy of a slice from a DataFrame\n",
      "\n",
      "See the caveats in the documentation: https://pandas.pydata.org/pandas-docs/stable/user_guide/indexing.html#returning-a-view-versus-a-copy\n",
      "  new_xlsx['연도'][30:40] = 2019\n",
      "/var/folders/cy/sw8s66dd02l8b9dj7pqk2ljm0000gn/T/ipykernel_37804/4137071420.py:7: SettingWithCopyWarning: \n",
      "A value is trying to be set on a copy of a slice from a DataFrame\n",
      "\n",
      "See the caveats in the documentation: https://pandas.pydata.org/pandas-docs/stable/user_guide/indexing.html#returning-a-view-versus-a-copy\n",
      "  new_xlsx['연도'][40:50] = 2020\n",
      "/var/folders/cy/sw8s66dd02l8b9dj7pqk2ljm0000gn/T/ipykernel_37804/4137071420.py:8: SettingWithCopyWarning: \n",
      "A value is trying to be set on a copy of a slice from a DataFrame\n",
      "\n",
      "See the caveats in the documentation: https://pandas.pydata.org/pandas-docs/stable/user_guide/indexing.html#returning-a-view-versus-a-copy\n",
      "  new_xlsx['연도'][50:60] = 2021\n"
     ]
    }
   ],
   "source": [
    "new_xlsx['연도'] = 0\n",
    "\n",
    "new_xlsx['연도'][0:10] = 2016\n",
    "new_xlsx['연도'][10:20] = 2017\n",
    "new_xlsx['연도'][20:30] = 2018\n",
    "new_xlsx['연도'][30:40] = 2019\n",
    "new_xlsx['연도'][40:50] = 2020\n",
    "new_xlsx['연도'][50:60] = 2021"
   ]
  },
  {
   "cell_type": "code",
   "execution_count": 18,
   "metadata": {},
   "outputs": [],
   "source": [
    "new_xlsx.to_excel('../data/tableau(market_size).xlsx', index=False)"
   ]
  }
 ],
 "metadata": {
  "kernelspec": {
   "display_name": "Python 3",
   "language": "python",
   "name": "python3"
  },
  "language_info": {
   "codemirror_mode": {
    "name": "ipython",
    "version": 3
   },
   "file_extension": ".py",
   "mimetype": "text/x-python",
   "name": "python",
   "nbconvert_exporter": "python",
   "pygments_lexer": "ipython3",
   "version": "3.9.6"
  }
 },
 "nbformat": 4,
 "nbformat_minor": 2
}
